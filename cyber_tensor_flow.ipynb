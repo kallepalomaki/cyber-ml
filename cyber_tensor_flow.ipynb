{
  "nbformat": 4,
  "nbformat_minor": 0,
  "metadata": {
    "colab": {
      "provenance": [],
      "history_visible": true,
      "authorship_tag": "ABX9TyPOLQcsECXAAqZiShsGmKnZ",
      "include_colab_link": true
    },
    "kernelspec": {
      "name": "python3",
      "display_name": "Python 3"
    },
    "language_info": {
      "name": "python"
    },
    "accelerator": "GPU",
    "gpuClass": "standard"
  },
  "cells": [
    {
      "cell_type": "markdown",
      "metadata": {
        "id": "view-in-github",
        "colab_type": "text"
      },
      "source": [
        "<a href=\"https://colab.research.google.com/github/kallepalomaki/cyber-ml/blob/main/cyber_tensor_flow.ipynb\" target=\"_parent\"><img src=\"https://colab.research.google.com/assets/colab-badge.svg\" alt=\"Open In Colab\"/></a>"
      ]
    },
    {
      "cell_type": "code",
      "execution_count": 1,
      "metadata": {
        "colab": {
          "base_uri": "https://localhost:8080/"
        },
        "id": "bPfLDirVBwjA",
        "outputId": "294f57e2-2c0f-42b6-a622-cfb2c0232ae5"
      },
      "outputs": [
        {
          "output_type": "stream",
          "name": "stdout",
          "text": [
            "--2022-12-09 14:25:59--  https://zenodo.org/record/6463389/files/ALLFLOWMETER_HIKARI2021.csv.zip\n",
            "Resolving zenodo.org (zenodo.org)... 188.185.124.72\n",
            "Connecting to zenodo.org (zenodo.org)|188.185.124.72|:443... connected.\n",
            "HTTP request sent, awaiting response... 200 OK\n",
            "Length: 68403081 (65M) [application/octet-stream]\n",
            "Saving to: ‘ALLFLOWMETER_HIKARI2021.csv.zip.1’\n",
            "\n",
            "ALLFLOWMETER_HIKARI 100%[===================>]  65.23M   303KB/s    in 3m 36s  \n",
            "\n",
            "2022-12-09 14:29:38 (309 KB/s) - ‘ALLFLOWMETER_HIKARI2021.csv.zip.1’ saved [68403081/68403081]\n",
            "\n",
            "Archive:  ALLFLOWMETER_HIKARI2021.csv.zip\n",
            "replace ALLFLOWMETER_HIKARI2021.csv? [y]es, [n]o, [A]ll, [N]one, [r]ename: y\n",
            "  inflating: ALLFLOWMETER_HIKARI2021.csv  \n"
          ]
        }
      ],
      "source": [
        "!wget \"https://zenodo.org/record/6463389/files/ALLFLOWMETER_HIKARI2021.csv.zip\"\n",
        "!unzip ALLFLOWMETER_HIKARI2021.csv.zip"
      ]
    },
    {
      "cell_type": "code",
      "source": [
        "import pandas as pd\n",
        "from sklearn.preprocessing import StandardScaler\n",
        "from sklearn.utils import shuffle\n",
        "import numpy as np\n",
        "from keras.models import Model\n",
        "from keras.layers import Dense, Input, LSTM\n",
        "from keras.optimizers import Adam, SGD\n",
        "from datetime import datetime\n"
      ],
      "metadata": {
        "id": "QXUDxi_XDKOn"
      },
      "execution_count": 2,
      "outputs": []
    },
    {
      "cell_type": "code",
      "source": [
        "#!unzip ALLFLOWMETER_HIKARI2021.csv.zip.1\n",
        "df=pd.read_csv('ALLFLOWMETER_HIKARI2021.csv')\n"
      ],
      "metadata": {
        "id": "a7g8F4_cDQom"
      },
      "execution_count": 3,
      "outputs": []
    },
    {
      "cell_type": "code",
      "source": [
        "df.shape"
      ],
      "metadata": {
        "colab": {
          "base_uri": "https://localhost:8080/"
        },
        "id": "kTBvHzSbgb2V",
        "outputId": "c5b4e750-1318-4fcb-c8ff-c33695733d79"
      },
      "execution_count": 4,
      "outputs": [
        {
          "output_type": "execute_result",
          "data": {
            "text/plain": [
              "(555278, 88)"
            ]
          },
          "metadata": {},
          "execution_count": 4
        }
      ]
    },
    {
      "cell_type": "code",
      "source": [
        "targets=df['Label'].values\n",
        "inputs=df.drop(['uid', 'originp', 'originh', 'responh', 'responp', 'traffic_category','Label'],axis=1)\n",
        "\n",
        "#from sklearn.datasets import load_breast_cancer\n",
        "\n",
        "# load the data\n",
        "#data = load_breast_cancer()\n",
        "\n",
        "#inputs=data.data\n",
        "#targets=data.target"
      ],
      "metadata": {
        "id": "gfCksa6FDqY7"
      },
      "execution_count": 5,
      "outputs": []
    },
    {
      "cell_type": "code",
      "source": [
        "scaler=StandardScaler()\n",
        "scaler.fit(inputs)\n",
        "inputs=scaler.transform(inputs)"
      ],
      "metadata": {
        "id": "GlQ6fni9FpBO"
      },
      "execution_count": 9,
      "outputs": []
    },
    {
      "cell_type": "code",
      "source": [
        "inputs=inputs[:,2:]\n",
        "inputs.shape"
      ],
      "metadata": {
        "colab": {
          "base_uri": "https://localhost:8080/"
        },
        "id": "F3IoF7cEJrhc",
        "outputId": "2fa6645e-ae92-48d2-c7fe-c10000185fe5"
      },
      "execution_count": 10,
      "outputs": [
        {
          "output_type": "execute_result",
          "data": {
            "text/plain": [
              "(555278, 79)"
            ]
          },
          "metadata": {},
          "execution_count": 10
        }
      ]
    },
    {
      "cell_type": "code",
      "source": [
        "input_means=np.mean(inputs, axis=0)\n",
        "input_std=np.std(inputs,axis=0)"
      ],
      "metadata": {
        "id": "0TdpLupvJ0Yv"
      },
      "execution_count": 11,
      "outputs": []
    },
    {
      "cell_type": "code",
      "source": [
        "input_median=np.median(inputs, axis=0)\n",
        "import matplotlib.pyplot as plt\n",
        "plt.plot(input_means)\n",
        "plt.plot(input_median)\n",
        "print(np.mean(input_means))\n",
        "print(np.mean(input_median))"
      ],
      "metadata": {
        "colab": {
          "base_uri": "https://localhost:8080/",
          "height": 302
        },
        "id": "5B8LJFow1c8A",
        "outputId": "b8968c64-08d2-4537-f277-3f5ab8862ca7"
      },
      "execution_count": 12,
      "outputs": [
        {
          "output_type": "stream",
          "name": "stdout",
          "text": [
            "1.2605758552224774e-17\n",
            "-0.2153005507797462\n"
          ]
        },
        {
          "output_type": "display_data",
          "data": {
            "text/plain": [
              "<Figure size 432x288 with 1 Axes>"
            ],
            "image/png": "[encoded data removed]"
          },
          "metadata": {
            "needs_background": "light"
          }
        }
      ]
    },
    {
      "cell_type": "code",
      "source": [
        "print(np.argmin(input_median))\n",
        "print(np.min(input_median))\n",
        "print(input_median[77], np.median(inputs[:,77]), np.mean(inputs[:,77]))\n",
        "#plt.plot(inputs[:,77])"
      ],
      "metadata": {
        "colab": {
          "base_uri": "https://localhost:8080/"
        },
        "id": "RZ7Y3-xp88DI",
        "outputId": "dd33cd90-914d-45fb-e340-4a505b91d68a"
      },
      "execution_count": 13,
      "outputs": [
        {
          "output_type": "stream",
          "name": "stdout",
          "text": [
            "14\n",
            "-0.7340426741704812\n",
            "-0.7204803747657283 -0.7204803747657283 2.948235772336147e-17\n"
          ]
        }
      ]
    },
    {
      "cell_type": "code",
      "source": [
        "inputs, targets=shuffle(inputs, targets)\n",
        "train_len=int(len(targets)*0.8)"
      ],
      "metadata": {
        "id": "wdkQ-BcILx4M"
      },
      "execution_count": 14,
      "outputs": []
    },
    {
      "cell_type": "code",
      "source": [
        "D=inputs.shape[1]\n"
      ],
      "metadata": {
        "id": "gLeKuAJESSH0"
      },
      "execution_count": 15,
      "outputs": []
    },
    {
      "cell_type": "code",
      "source": [
        "train_inputs=inputs[:train_len].astype(np.float32).reshape(-1,D)\n",
        "test_inputs=inputs[train_len:].astype(np.float32).reshape(-1,D)\n",
        "\n",
        "#train_targets=torch.from_numpy(targets[:train_len])\n",
        "#test_targets=torch.from_numpy(targets[train_len:])"
      ],
      "metadata": {
        "id": "g13Fl6fYPl5z"
      },
      "execution_count": 16,
      "outputs": []
    },
    {
      "cell_type": "code",
      "source": [
        "train_targets=targets[:train_len].astype(np.float32).reshape(-1,1)\n",
        "test_targets=targets[train_len:].astype(np.float32).reshape(-1,1)"
      ],
      "metadata": {
        "id": "8NBvygUKQiHQ"
      },
      "execution_count": 17,
      "outputs": []
    },
    {
      "cell_type": "code",
      "source": [
        "print(train_targets.shape)\n",
        "print(train_inputs.shape)\n",
        "D"
      ],
      "metadata": {
        "colab": {
          "base_uri": "https://localhost:8080/"
        },
        "id": "ZKvxlWDGMUss",
        "outputId": "5cf181bf-042a-4bd7-a447-b7989204ad65"
      },
      "execution_count": 18,
      "outputs": [
        {
          "output_type": "stream",
          "name": "stdout",
          "text": [
            "(444222, 1)\n",
            "(444222, 79)\n"
          ]
        },
        {
          "output_type": "execute_result",
          "data": {
            "text/plain": [
              "79"
            ]
          },
          "metadata": {},
          "execution_count": 18
        }
      ]
    },
    {
      "cell_type": "code",
      "source": [
        "\n",
        "# create an LSTM network with a single LSTM\n",
        "input_ = Input(shape=(D,))\n",
        "layer1 = Dense(100, activation=\"relu\", name=\"layer1\")\n",
        "layer2 = Dense(100, activation=\"relu\", name=\"layer2\")\n",
        "layer_out = Dense(1, name=\"layer_out\")\n",
        "\n",
        "x=layer1(input_)\n",
        "x=layer2(x)\n",
        "output=layer_out(x)\n",
        "\n",
        "model = Model(input_, output)\n",
        "model.compile(\n",
        "  #loss='categorical_crossentropy',\n",
        "  loss=\"binary_crossentropy\",\n",
        "  # optimizer='rmsprop',\n",
        "  optimizer=Adam(lr=0.0001),\n",
        "  # optimizer=SGD(lr=0.01, momentum=0.9),\n",
        "  metrics=['accuracy']\n",
        ")\n",
        "\n",
        "epochs=10\n",
        "batch_size=512\n",
        "validation_split=0.2\n",
        "#print('Training model...')\n",
        "r = model.fit(\n",
        "  train_inputs,\n",
        "  train_targets,\n",
        "  batch_size=batch_size,\n",
        "  epochs=epochs,\n",
        "  validation_split=0.2,\n",
        ")"
      ],
      "metadata": {
        "id": "zZMDR2FiR-yc",
        "colab": {
          "base_uri": "https://localhost:8080/"
        },
        "outputId": "917757ae-a853-476d-8533-089482f50a17"
      },
      "execution_count": 44,
      "outputs": [
        {
          "output_type": "stream",
          "name": "stderr",
          "text": [
            "/usr/local/lib/python3.8/dist-packages/keras/optimizers/optimizer_v2/adam.py:110: UserWarning: The `lr` argument is deprecated, use `learning_rate` instead.\n",
            "  super(Adam, self).__init__(name, **kwargs)\n"
          ]
        },
        {
          "output_type": "stream",
          "name": "stdout",
          "text": [
            "Epoch 1/10\n",
            "695/695 [==============================] - 11s 14ms/step - loss: 0.2969 - accuracy: 0.9224 - val_loss: 0.2199 - val_accuracy: 0.9305\n",
            "Epoch 2/10\n",
            "695/695 [==============================] - 4s 5ms/step - loss: 0.1901 - accuracy: 0.9290 - val_loss: 0.1461 - val_accuracy: 0.9287\n",
            "Epoch 3/10\n",
            "695/695 [==============================] - 4s 6ms/step - loss: 0.1405 - accuracy: 0.9315 - val_loss: 0.1413 - val_accuracy: 0.9296\n",
            "Epoch 4/10\n",
            "695/695 [==============================] - 6s 8ms/step - loss: 0.1651 - accuracy: 0.9311 - val_loss: 0.1623 - val_accuracy: 0.9294\n",
            "Epoch 5/10\n",
            "695/695 [==============================] - 5s 7ms/step - loss: 0.1640 - accuracy: 0.9313 - val_loss: 0.1613 - val_accuracy: 0.9295\n",
            "Epoch 6/10\n",
            "695/695 [==============================] - 4s 6ms/step - loss: 0.1632 - accuracy: 0.9315 - val_loss: 0.1605 - val_accuracy: 0.9295\n",
            "Epoch 7/10\n",
            "695/695 [==============================] - 6s 8ms/step - loss: 0.1626 - accuracy: 0.9315 - val_loss: 0.1594 - val_accuracy: 0.9307\n",
            "Epoch 8/10\n",
            "695/695 [==============================] - 3s 4ms/step - loss: 0.1620 - accuracy: 0.9320 - val_loss: 0.1590 - val_accuracy: 0.9304\n",
            "Epoch 9/10\n",
            "695/695 [==============================] - 5s 8ms/step - loss: 0.1616 - accuracy: 0.9325 - val_loss: 0.1588 - val_accuracy: 0.9308\n",
            "Epoch 10/10\n",
            "695/695 [==============================] - 4s 5ms/step - loss: 0.1613 - accuracy: 0.9325 - val_loss: 0.1589 - val_accuracy: 0.9305\n"
          ]
        }
      ]
    },
    {
      "cell_type": "code",
      "source": [
        "predictions=model.predict(test_inputs)\n"
      ],
      "metadata": {
        "id": "MdGdNP6TKsfB",
        "colab": {
          "base_uri": "https://localhost:8080/"
        },
        "outputId": "de1e2c92-ca56-4673-c0ea-d0fa368bfe04"
      },
      "execution_count": 40,
      "outputs": [
        {
          "output_type": "stream",
          "name": "stdout",
          "text": [
            "3471/3471 [==============================] - 9s 3ms/step\n"
          ]
        }
      ]
    },
    {
      "cell_type": "code",
      "source": [
        "predictions.shape"
      ],
      "metadata": {
        "colab": {
          "base_uri": "https://localhost:8080/"
        },
        "id": "ECa2pNuIM6ga",
        "outputId": "0cfa8325-09eb-4ed5-ad90-4a638becb99d"
      },
      "execution_count": 41,
      "outputs": [
        {
          "output_type": "execute_result",
          "data": {
            "text/plain": [
              "(111056, 1)"
            ]
          },
          "metadata": {},
          "execution_count": 41
        }
      ]
    },
    {
      "cell_type": "code",
      "source": [
        "predictions=predictions>0.5\n",
        "test_targets=test_targets>0"
      ],
      "metadata": {
        "id": "SqHsCcIORUWK"
      },
      "execution_count": 42,
      "outputs": []
    },
    {
      "cell_type": "code",
      "source": [
        "np.mean(predictions==test_targets)"
      ],
      "metadata": {
        "colab": {
          "base_uri": "https://localhost:8080/"
        },
        "id": "vCULfjWcTrhr",
        "outputId": "d3dc6c3b-947b-48be-b96e-0e2dcd24571f"
      },
      "execution_count": 43,
      "outputs": [
        {
          "output_type": "execute_result",
          "data": {
            "text/plain": [
              "0.9318271862843971"
            ]
          },
          "metadata": {},
          "execution_count": 43
        }
      ]
    }
  ]
}