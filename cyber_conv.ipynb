{
  "nbformat": 4,
  "nbformat_minor": 0,
  "metadata": {
    "colab": {
      "provenance": [],
      "authorship_tag": "ABX9TyPdTPRB8znXIobTPOIECoy0",
      "include_colab_link": true
    },
    "kernelspec": {
      "name": "python3",
      "display_name": "Python 3"
    },
    "language_info": {
      "name": "python"
    },
    "accelerator": "GPU",
    "gpuClass": "standard"
  },
  "cells": [
    {
      "cell_type": "markdown",
      "metadata": {
        "id": "view-in-github",
        "colab_type": "text"
      },
      "source": [
        "<a href=\"https://colab.research.google.com/github/kallepalomaki/cyber-ml/blob/main/cyber_conv.ipynb\" target=\"_parent\"><img src=\"https://colab.research.google.com/assets/colab-badge.svg\" alt=\"Open In Colab\"/></a>"
      ]
    },
    {
      "cell_type": "code",
      "execution_count": null,
      "metadata": {
        "colab": {
          "base_uri": "https://localhost:8080/"
        },
        "id": "bPfLDirVBwjA",
        "outputId": "ae016c32-6e74-438f-f127-e3ca5881659b"
      },
      "outputs": [
        {
          "output_type": "stream",
          "name": "stdout",
          "text": [
            "--2022-12-08 06:46:59--  https://zenodo.org/record/6463389/files/ALLFLOWMETER_HIKARI2021.csv.zip\n",
            "Resolving zenodo.org (zenodo.org)... 188.185.124.72\n",
            "Connecting to zenodo.org (zenodo.org)|188.185.124.72|:443... connected.\n",
            "HTTP request sent, awaiting response... 200 OK\n",
            "Length: 68403081 (65M) [application/octet-stream]\n",
            "Saving to: ‘ALLFLOWMETER_HIKARI2021.csv.zip’\n",
            "\n",
            "ALLFLOWMETER_HIKARI 100%[===================>]  65.23M   523KB/s    in 2m 17s  \n",
            "\n",
            "2022-12-08 06:49:17 (489 KB/s) - ‘ALLFLOWMETER_HIKARI2021.csv.zip’ saved [68403081/68403081]\n",
            "\n",
            "Archive:  ALLFLOWMETER_HIKARI2021.csv.zip\n",
            "  inflating: ALLFLOWMETER_HIKARI2021.csv  \n"
          ]
        }
      ],
      "source": [
        "!wget \"https://zenodo.org/record/6463389/files/ALLFLOWMETER_HIKARI2021.csv.zip\"\n",
        "!unzip ALLFLOWMETER_HIKARI2021.csv.zip"
      ]
    },
    {
      "cell_type": "code",
      "source": [
        "import pandas as pd\n",
        "from sklearn.preprocessing import StandardScaler\n",
        "from sklearn.utils import shuffle\n",
        "import numpy as np\n",
        "from torch.utils.data import TensorDataset, DataLoader\n",
        "import torch\n",
        "import torch.nn as nn\n",
        "from datetime import datetime\n"
      ],
      "metadata": {
        "id": "QXUDxi_XDKOn"
      },
      "execution_count": null,
      "outputs": []
    },
    {
      "cell_type": "code",
      "source": [
        "#m = nn.Conv1d(16, 33, 3, stride=2)\n",
        "#input = torch.randn(20, 16, 3)\n",
        "#output = m(input)"
      ],
      "metadata": {
        "id": "x1lsJ11TjBSx"
      },
      "execution_count": null,
      "outputs": []
    },
    {
      "cell_type": "code",
      "source": [
        "df=pd.read_csv('ALLFLOWMETER_HIKARI2021.csv')\n"
      ],
      "metadata": {
        "id": "a7g8F4_cDQom"
      },
      "execution_count": null,
      "outputs": []
    },
    {
      "cell_type": "code",
      "source": [
        "df.shape"
      ],
      "metadata": {
        "colab": {
          "base_uri": "https://localhost:8080/"
        },
        "id": "kTBvHzSbgb2V",
        "outputId": "0a912a13-011c-4738-dbad-de94538e769b"
      },
      "execution_count": null,
      "outputs": [
        {
          "output_type": "execute_result",
          "data": {
            "text/plain": [
              "(555278, 88)"
            ]
          },
          "metadata": {},
          "execution_count": 7
        }
      ]
    },
    {
      "cell_type": "code",
      "source": [
        "targets=df['Label'].values\n",
        "inputs=df.drop(['uid', 'originp', 'originh', 'responh', 'responp', 'traffic_category','Label'],axis=1)\n",
        "\n",
        "#from sklearn.datasets import load_breast_cancer\n",
        "\n",
        "# load the data\n",
        "#data = load_breast_cancer()\n",
        "\n",
        "#inputs=data.data\n",
        "#targets=data.target"
      ],
      "metadata": {
        "id": "gfCksa6FDqY7"
      },
      "execution_count": null,
      "outputs": []
    },
    {
      "cell_type": "code",
      "source": [
        "scaler=StandardScaler()\n",
        "scaler.fit(inputs)\n",
        "inputs=scaler.transform(inputs)"
      ],
      "metadata": {
        "id": "GlQ6fni9FpBO"
      },
      "execution_count": null,
      "outputs": []
    },
    {
      "cell_type": "code",
      "source": [
        "inputs=inputs[:,2:]\n",
        "inputs.shape"
      ],
      "metadata": {
        "colab": {
          "base_uri": "https://localhost:8080/"
        },
        "id": "F3IoF7cEJrhc",
        "outputId": "c569807d-d1f8-41f7-a037-b3b8d2de4581"
      },
      "execution_count": null,
      "outputs": [
        {
          "output_type": "execute_result",
          "data": {
            "text/plain": [
              "(555278, 79)"
            ]
          },
          "metadata": {},
          "execution_count": 58
        }
      ]
    },
    {
      "cell_type": "code",
      "source": [
        "input_means=np.mean(inputs, axis=0)\n",
        "input_std=np.std(inputs,axis=0)"
      ],
      "metadata": {
        "id": "0TdpLupvJ0Yv"
      },
      "execution_count": null,
      "outputs": []
    },
    {
      "cell_type": "code",
      "source": [
        "len(inputs)"
      ],
      "metadata": {
        "colab": {
          "base_uri": "https://localhost:8080/"
        },
        "id": "tl-dMfm_XUnI",
        "outputId": "ae4acb00-8740-4e7c-b120-e2d1bda13418"
      },
      "execution_count": null,
      "outputs": [
        {
          "output_type": "execute_result",
          "data": {
            "text/plain": [
              "555278"
            ]
          },
          "metadata": {},
          "execution_count": 60
        }
      ]
    },
    {
      "cell_type": "code",
      "source": [
        "X=[]\n",
        "Y=[]\n",
        "T=4\n",
        "D=inputs.shape[1]\n",
        "for t in range(len(inputs)):\n",
        "  X_conv=[]\n",
        "  for it in range(T):\n",
        "    x=np.pad(inputs[t],(it, T-it))\n",
        "    X_conv.append(x)\n",
        "    #print(x.shape) \n",
        "    \n",
        "  X.append(X_conv)\n",
        "  #print(np.array(X).shape)\n",
        "  Y.append(targets[t])\n",
        "\n",
        "X=np.array(X).reshape(len(inputs),-1,T)\n",
        "Y=np.array(Y)\n",
        "#Y=np.array(Y).reshape(-1,1)\n",
        "\n",
        "inputs=X\n",
        "targets=Y\n",
        "print(inputs.shape)\n",
        "print(targets.shape)\n",
        "inputs, targets=shuffle(inputs, targets)\n",
        "train_len=int(len(targets)*0.8)"
      ],
      "metadata": {
        "id": "wdkQ-BcILx4M",
        "colab": {
          "base_uri": "https://localhost:8080/"
        },
        "outputId": "768b6a2f-6e2c-427e-b67e-8c27500e3ee2"
      },
      "execution_count": null,
      "outputs": [
        {
          "output_type": "stream",
          "name": "stdout",
          "text": [
            "(555278, 83, 4)\n",
            "(555278,)\n"
          ]
        }
      ]
    },
    {
      "cell_type": "code",
      "source": [
        "D=X.shape[1]\n",
        "print(X.shape)\n",
        "print(Y.shape)"
      ],
      "metadata": {
        "colab": {
          "base_uri": "https://localhost:8080/"
        },
        "id": "W2rP1ZTBXyCw",
        "outputId": "deb57888-2b0d-4e53-ed90-0321d42af572"
      },
      "execution_count": null,
      "outputs": [
        {
          "output_type": "stream",
          "name": "stdout",
          "text": [
            "(555278, 83, 4)\n",
            "(555278,)\n"
          ]
        }
      ]
    },
    {
      "cell_type": "code",
      "source": [
        "train_inputs=torch.from_numpy(inputs[:train_len].astype(np.float32))\n",
        "test_inputs=torch.from_numpy(inputs[train_len:].astype(np.float32))\n",
        "\n",
        "#train_targets=torch.from_numpy(targets[:train_len])\n",
        "#test_targets=torch.from_numpy(targets[train_len:])"
      ],
      "metadata": {
        "id": "g13Fl6fYPl5z"
      },
      "execution_count": null,
      "outputs": []
    },
    {
      "cell_type": "code",
      "source": [
        "train_targets=torch.from_numpy(targets[:train_len].astype(np.float32).reshape(-1,1))\n",
        "test_targets=torch.from_numpy(targets[train_len:].astype(np.float32).reshape(-1,1))"
      ],
      "metadata": {
        "id": "8NBvygUKQiHQ"
      },
      "execution_count": null,
      "outputs": []
    },
    {
      "cell_type": "code",
      "source": [],
      "metadata": {
        "id": "gLeKuAJESSH0"
      },
      "execution_count": null,
      "outputs": []
    },
    {
      "cell_type": "code",
      "source": [
        "class Model(nn.Module):\n",
        "  def __init__(self, D, num_hidden=512):\n",
        "    super(Model, self).__init__()\n",
        "    self.D=D\n",
        "\n",
        "    #self.linear_stack = nn.Sequential(\n",
        "            #nn.Linear(D, num_hidden),\n",
        "    #        nn.Conv1d(D,num_hidden, kernel_size=3),\n",
        "     #       nn.AvgPool1d(3),\n",
        "            #nn.ReLU(),\n",
        "     #       nn.Linear(num_hidden, 1),\n",
        "      #  )\n",
        "    self.num_hidden=num_hidden\n",
        "    self.conv=nn.Conv1d(D, num_hidden,kernel_size=3)\n",
        "    self.relu=nn.ReLU()\n",
        "    self.avgpool=nn.AvgPool1d(2)\n",
        "    self.lin2=nn.Linear(num_hidden, num_hidden)\n",
        "    self.relu2=nn.ReLU()\n",
        "    self.lin=nn.Linear(num_hidden, 1)\n",
        "    \n",
        "  def forward(self, input_data):   \n",
        "    #logits=self.linear_stack(input_data)\n",
        "    #print(\"input_shape\", input_data.shape)\n",
        "    logits=self.conv(input_data)\n",
        "    #print(\"logits_shape\", logits.shape)\n",
        "    logits=self.relu(logits)\n",
        "    logits=self.avgpool(logits).reshape(-1,self.num_hidden)\n",
        "    #print(\"logits_shape after pooling\", logits.shape)\n",
        "    logits=self.lin2(logits)\n",
        "    logits=self.relu2(logits)\n",
        "    logits=self.lin(logits)\n",
        "    return logits"
      ],
      "metadata": {
        "id": "zZMDR2FiR-yc"
      },
      "execution_count": null,
      "outputs": []
    },
    {
      "cell_type": "code",
      "source": [
        "device=torch.device(\"cuda:0\" if torch.cuda.is_available() else \"cpu\")\n",
        "print(device)"
      ],
      "metadata": {
        "colab": {
          "base_uri": "https://localhost:8080/"
        },
        "id": "hFbxL5QFS_K-",
        "outputId": "d13a5b1e-4cce-4f05-a600-fa4ac87d60a8"
      },
      "execution_count": null,
      "outputs": [
        {
          "output_type": "stream",
          "name": "stdout",
          "text": [
            "cuda:0\n"
          ]
        }
      ]
    },
    {
      "cell_type": "code",
      "source": [
        "model=Model(D=D, num_hidden=100)\n",
        "model.to(device)"
      ],
      "metadata": {
        "colab": {
          "base_uri": "https://localhost:8080/"
        },
        "id": "uQxeF36QTDOE",
        "outputId": "a779a20d-be8f-43ef-916e-16ec844c64f8"
      },
      "execution_count": null,
      "outputs": [
        {
          "output_type": "execute_result",
          "data": {
            "text/plain": [
              "Model(\n",
              "  (conv): Conv1d(83, 100, kernel_size=(3,), stride=(1,))\n",
              "  (relu): ReLU()\n",
              "  (avgpool): AvgPool1d(kernel_size=(2,), stride=(2,), padding=(0,))\n",
              "  (lin2): Linear(in_features=100, out_features=100, bias=True)\n",
              "  (relu2): ReLU()\n",
              "  (lin): Linear(in_features=100, out_features=1, bias=True)\n",
              ")"
            ]
          },
          "metadata": {},
          "execution_count": 76
        }
      ]
    },
    {
      "cell_type": "code",
      "source": [
        "criterion=nn.BCEWithLogitsLoss()  #MSELoss()# CrossEntropyLoss() #nn.BCEWithLogitsLoss() #nn.CrossEntropyLoss() #BCELoss #nn.BCEWithLogitsLoss\n",
        "optimizer=torch.optim.Adam(model.parameters())"
      ],
      "metadata": {
        "id": "t3vnpJCLUTQI"
      },
      "execution_count": null,
      "outputs": []
    },
    {
      "cell_type": "code",
      "source": [
        "train_data=TensorDataset(train_inputs, train_targets)\n",
        "test_data=TensorDataset(test_inputs, test_targets)\n",
        "batch_size=512\n",
        "train_loader=DataLoader(dataset=train_data,\n",
        "                        batch_size=batch_size,\n",
        "                        shuffle=False)\n",
        "test_loader=DataLoader(dataset=test_data,\n",
        "                        batch_size=batch_size,\n",
        "                        shuffle=False)"
      ],
      "metadata": {
        "id": "Bs6DM8HVU5Ul"
      },
      "execution_count": null,
      "outputs": []
    },
    {
      "cell_type": "code",
      "source": [
        "def train(model, criterion, optimizer, train_loader, test_loader, epochs):\n",
        "  train_losses=np.zeros(epochs)\n",
        "  test_losses=np.zeros(epochs)\n",
        "  for it in range(epochs):\n",
        "    t0=datetime.now()\n",
        "    train_loss=[]\n",
        "    for i_inputs, t_targets in train_loader:\n",
        "      i_inputs, t_targets=i_inputs.to(device), t_targets.to(device)\n",
        "      model.zero_grad()\n",
        "      pred=model(i_inputs)\n",
        "      #print(pred_ratings.shape, targets.shape)\n",
        "      loss=criterion(pred, t_targets.reshape(-1,1))\n",
        "      loss.backward()\n",
        "      optimizer.step()\n",
        "      train_loss.append(loss.item())\n",
        "    train_losses[it]=np.mean(train_loss)\n",
        "    test_loss=[]  \n",
        "    for i_inputs, t_targets in test_loader:\n",
        "      i_inputs, t_targets=i_inputs.to(device), t_targets.to(device)\n",
        "      model.zero_grad()\n",
        "      pred=model(i_inputs)\n",
        "      loss=criterion(pred, t_targets.reshape(-1,1))\n",
        "      test_loss.append(loss.item())\n",
        "    test_losses[it]=np.mean(test_loss)\n",
        "    print(\"iteration: \", it, \"/\", epochs, \" train loss: \", train_losses[it], \"test loss: \", test_losses[it])\n",
        "  \n",
        "  return train_losses, test_losses "
      ],
      "metadata": {
        "id": "s-rsxFhTVtKB"
      },
      "execution_count": null,
      "outputs": []
    },
    {
      "cell_type": "code",
      "source": [
        "train_losses, test_losses=train(model, criterion, optimizer, train_loader, test_loader, 100)"
      ],
      "metadata": {
        "colab": {
          "base_uri": "https://localhost:8080/"
        },
        "id": "RMtTEwGjVz3R",
        "outputId": "0603b2e1-9aca-49f5-a5de-2ed4d57019be"
      },
      "execution_count": null,
      "outputs": [
        {
          "output_type": "stream",
          "name": "stdout",
          "text": [
            "iteration:  0 / 100  train loss:  0.12455906803947166 test loss:  0.12436662909622016\n",
            "iteration:  1 / 100  train loss:  0.1244525541529952 test loss:  0.1241301541229547\n",
            "iteration:  2 / 100  train loss:  0.12444583649322184 test loss:  0.12431588786126282\n",
            "iteration:  3 / 100  train loss:  0.12429340193176874 test loss:  0.123779718433657\n",
            "iteration:  4 / 100  train loss:  0.12423741058682516 test loss:  0.1237233710316469\n",
            "iteration:  5 / 100  train loss:  0.12407272206061447 test loss:  0.12339597363625804\n",
            "iteration:  6 / 100  train loss:  0.12407757220832709 test loss:  0.12330167136296699\n",
            "iteration:  7 / 100  train loss:  0.12393576832067582 test loss:  0.12325173558040697\n",
            "iteration:  8 / 100  train loss:  0.1239166923880165 test loss:  0.12321022492811977\n",
            "iteration:  9 / 100  train loss:  0.12381878225690758 test loss:  0.12319748594601583\n",
            "iteration:  10 / 100  train loss:  0.12378963747400842 test loss:  0.12325474482527526\n",
            "iteration:  11 / 100  train loss:  0.12372097206486535 test loss:  0.12324816386820533\n",
            "iteration:  12 / 100  train loss:  0.12375010904525557 test loss:  0.12317559761660439\n",
            "iteration:  13 / 100  train loss:  0.12371840635271665 test loss:  0.12298865959666291\n",
            "iteration:  14 / 100  train loss:  0.12363891707827693 test loss:  0.12304627043860299\n",
            "iteration:  15 / 100  train loss:  0.1236124926757428 test loss:  0.12300848507661424\n",
            "iteration:  16 / 100  train loss:  0.12363049638573476 test loss:  0.1231295594833963\n",
            "iteration:  17 / 100  train loss:  0.12365205033171561 test loss:  0.12317620313936664\n",
            "iteration:  18 / 100  train loss:  0.1235866621909191 test loss:  0.12388907970371334\n",
            "iteration:  19 / 100  train loss:  0.12357147393344733 test loss:  0.12329912855191165\n",
            "iteration:  20 / 100  train loss:  0.12355725431153851 test loss:  0.12307885986181998\n",
            "iteration:  21 / 100  train loss:  0.1236860163527013 test loss:  0.12307376654878739\n",
            "iteration:  22 / 100  train loss:  0.12351952705206135 test loss:  0.12332106127579641\n",
            "iteration:  23 / 100  train loss:  0.12352625598212541 test loss:  0.12312574155869023\n",
            "iteration:  24 / 100  train loss:  0.12345355734538098 test loss:  0.12303844664228676\n",
            "iteration:  25 / 100  train loss:  0.12348865224949775 test loss:  0.1233360625906474\n",
            "iteration:  26 / 100  train loss:  0.12348816822785112 test loss:  0.12294171867282709\n",
            "iteration:  27 / 100  train loss:  0.12349249270620159 test loss:  0.1230976898824015\n",
            "iteration:  28 / 100  train loss:  0.12353163030565059 test loss:  0.1231475197774474\n",
            "iteration:  29 / 100  train loss:  0.12346569464160001 test loss:  0.12309577058537215\n",
            "iteration:  30 / 100  train loss:  0.12343083850799068 test loss:  0.1229596259544522\n",
            "iteration:  31 / 100  train loss:  0.12338541752834749 test loss:  0.12337306275757777\n",
            "iteration:  32 / 100  train loss:  0.12336996898123745 test loss:  0.12290710928390652\n",
            "iteration:  33 / 100  train loss:  0.12336310796645654 test loss:  0.12297119502373005\n",
            "iteration:  34 / 100  train loss:  0.1233812648682825 test loss:  0.12284724393747919\n",
            "iteration:  35 / 100  train loss:  0.1233475319783671 test loss:  0.12297912034708235\n",
            "iteration:  36 / 100  train loss:  0.12333447873283367 test loss:  0.12316126293987723\n",
            "iteration:  37 / 100  train loss:  0.12334332675222427 test loss:  0.1229991412931873\n",
            "iteration:  38 / 100  train loss:  0.12331495663228398 test loss:  0.12313652234280714\n",
            "iteration:  39 / 100  train loss:  0.12325461184786211 test loss:  0.12306601574756033\n",
            "iteration:  40 / 100  train loss:  0.12327861910351136 test loss:  0.12291504246985308\n",
            "iteration:  41 / 100  train loss:  0.12320234290053768 test loss:  0.12316182897799575\n",
            "iteration:  42 / 100  train loss:  0.12315309754989114 test loss:  0.1229985795125434\n",
            "iteration:  43 / 100  train loss:  0.12321572911320469 test loss:  0.1228149024091558\n",
            "iteration:  44 / 100  train loss:  0.1231735125098223 test loss:  0.12304649539806876\n",
            "iteration:  45 / 100  train loss:  0.12306921905086886 test loss:  0.12317404037659069\n",
            "iteration:  46 / 100  train loss:  0.12313832714295332 test loss:  0.1230307180554636\n",
            "iteration:  47 / 100  train loss:  0.12313030926244599 test loss:  0.12295586025247926\n",
            "iteration:  48 / 100  train loss:  0.12320622681610045 test loss:  0.12296516918641631\n",
            "iteration:  49 / 100  train loss:  0.12309655789200062 test loss:  0.12295999522170713\n",
            "iteration:  50 / 100  train loss:  0.12307905814340038 test loss:  0.12289222113547786\n",
            "iteration:  51 / 100  train loss:  0.12300699668580212 test loss:  0.12306497050320497\n",
            "iteration:  52 / 100  train loss:  0.12301754313714218 test loss:  0.12329052697678315\n",
            "iteration:  53 / 100  train loss:  0.12308501774093247 test loss:  0.12303062916351354\n",
            "iteration:  54 / 100  train loss:  0.12294977916241516 test loss:  0.12311982452732077\n",
            "iteration:  55 / 100  train loss:  0.12294549690688261 test loss:  0.12298578562961746\n",
            "iteration:  56 / 100  train loss:  0.12302993175311847 test loss:  0.12291695088285455\n",
            "iteration:  57 / 100  train loss:  0.12297242064423825 test loss:  0.12289683301053289\n",
            "iteration:  58 / 100  train loss:  0.1230913674982462 test loss:  0.12304624386372105\n",
            "iteration:  59 / 100  train loss:  0.12295788957432668 test loss:  0.12308162619029323\n",
            "iteration:  60 / 100  train loss:  0.12297701770396825 test loss:  0.1232902390135598\n",
            "iteration:  61 / 100  train loss:  0.12296305952190253 test loss:  0.12342392018039106\n",
            "iteration:  62 / 100  train loss:  0.12292606449655948 test loss:  0.12325434503467401\n",
            "iteration:  63 / 100  train loss:  0.12301358505053454 test loss:  0.12301467479236665\n",
            "iteration:  64 / 100  train loss:  0.12290811142133128 test loss:  0.12347602116347459\n",
            "iteration:  65 / 100  train loss:  0.1229315765099042 test loss:  0.1232856845457433\n",
            "iteration:  66 / 100  train loss:  0.12292960307599488 test loss:  0.12318799648142081\n",
            "iteration:  67 / 100  train loss:  0.12289532891169946 test loss:  0.12320471568728372\n",
            "iteration:  68 / 100  train loss:  0.12296063121631398 test loss:  0.12314019997685735\n",
            "iteration:  69 / 100  train loss:  0.12290644007928085 test loss:  0.12304805133337249\n",
            "iteration:  70 / 100  train loss:  0.12286658553312177 test loss:  0.12346755606787545\n",
            "iteration:  71 / 100  train loss:  0.12287314870493478 test loss:  0.12343924822208518\n",
            "iteration:  72 / 100  train loss:  0.12289499797029979 test loss:  0.12310174406261488\n",
            "iteration:  73 / 100  train loss:  0.12281176341431481 test loss:  0.12365427081074033\n",
            "iteration:  74 / 100  train loss:  0.1228662859133449 test loss:  0.12337068066618959\n",
            "iteration:  75 / 100  train loss:  0.12294336873608801 test loss:  0.12286550970533476\n",
            "iteration:  76 / 100  train loss:  0.12289652516764979 test loss:  0.12341238702497175\n",
            "iteration:  77 / 100  train loss:  0.12283684630032783 test loss:  0.1231520506574811\n",
            "iteration:  78 / 100  train loss:  0.12281604242523969 test loss:  0.12337897446710393\n",
            "iteration:  79 / 100  train loss:  0.12281868753585673 test loss:  0.12359979968466517\n",
            "iteration:  80 / 100  train loss:  0.12291003490716632 test loss:  0.12346450654867058\n",
            "iteration:  81 / 100  train loss:  0.12290134252594088 test loss:  0.1230774117710953\n",
            "iteration:  82 / 100  train loss:  0.12283691111522886 test loss:  0.12349064641284503\n",
            "iteration:  83 / 100  train loss:  0.12278952200635238 test loss:  0.12442327033264845\n",
            "iteration:  84 / 100  train loss:  0.12277911574266473 test loss:  0.1236368767608146\n",
            "iteration:  85 / 100  train loss:  0.12301705155332791 test loss:  0.12345042447065978\n",
            "iteration:  86 / 100  train loss:  0.12291772481620586 test loss:  0.12395193692176573\n",
            "iteration:  87 / 100  train loss:  0.12276995776023733 test loss:  0.12351261498191939\n",
            "iteration:  88 / 100  train loss:  0.12276996283315568 test loss:  0.12352966592745847\n",
            "iteration:  89 / 100  train loss:  0.12275669849069987 test loss:  0.12377031758633626\n",
            "iteration:  90 / 100  train loss:  0.12276986199280908 test loss:  0.12348363792291984\n",
            "iteration:  91 / 100  train loss:  0.12290081148323376 test loss:  0.12324253260265297\n",
            "iteration:  92 / 100  train loss:  0.12283983166557029 test loss:  0.12312762374015447\n",
            "iteration:  93 / 100  train loss:  0.12278533047108058 test loss:  0.12343188543473521\n",
            "iteration:  94 / 100  train loss:  0.12283059293704648 test loss:  0.12351239809105473\n",
            "iteration:  95 / 100  train loss:  0.12275753598574395 test loss:  0.12343194418101816\n",
            "iteration:  96 / 100  train loss:  0.12267577328852244 test loss:  0.12325162876586211\n",
            "iteration:  97 / 100  train loss:  0.12274426108543773 test loss:  0.12366779835268099\n",
            "iteration:  98 / 100  train loss:  0.12271400202014204 test loss:  0.12298362283250704\n",
            "iteration:  99 / 100  train loss:  0.12276871010558121 test loss:  0.12341995849724739\n"
          ]
        }
      ]
    },
    {
      "cell_type": "code",
      "source": [
        "import matplotlib.pyplot as plt\n",
        "plt.plot(train_losses)\n",
        "plt.plot(test_losses)"
      ],
      "metadata": {
        "id": "8IfQ8obYoDBa",
        "colab": {
          "base_uri": "https://localhost:8080/",
          "height": 283
        },
        "outputId": "1d64602e-7890-4ccc-82bd-36b6b0a798ec"
      },
      "execution_count": null,
      "outputs": [
        {
          "output_type": "execute_result",
          "data": {
            "text/plain": [
              "[<matplotlib.lines.Line2D at 0x7faa5aa35580>]"
            ]
          },
          "metadata": {},
          "execution_count": 87
        },
        {
          "output_type": "display_data",
          "data": {
            "text/plain": [
              "<Figure size 432x288 with 1 Axes>"
            ],
            "image/png": "[encoded data removed]"
          },
          "metadata": {
            "needs_background": "light"
          }
        }
      ]
    },
    {
      "cell_type": "code",
      "source": [
        "train_list=[]\n",
        "test_list=[]\n",
        "for i_inputs, t_targets in train_loader:\n",
        "  i_inputs, t_targets=i_inputs.to(device), t_targets.to(device)\n",
        "\n",
        "  pred_train = model(i_inputs)\n",
        "  pred_train = (pred_train.detach().cpu().numpy() > 0.5)\n",
        "  train_list.append(np.mean(t_targets.detach().cpu().numpy() == pred_train))\n",
        "  #print(train_acc)\n",
        "#  pred_test = model(X_test)\n",
        "#  p_test = (p_test.numpy() > 0)\n",
        "#  test_acc = np.mean(y_test.numpy() == p_test)\n",
        "#print(f\"Train acc: {train_acc:.4f}, Test acc: {test_acc:.4f}\")\n",
        "\n",
        "for i_inputs, t_targets in test_loader:\n",
        "  i_inputs, t_targets=i_inputs.to(device), t_targets.to(device)\n",
        "\n",
        "  pred_test = model(i_inputs)\n",
        "  pred_test = (pred_test.detach().cpu().numpy() > 0.5)\n",
        "  test_list.append(np.mean(t_targets.detach().cpu().numpy() == pred_test))\n",
        "  #print(train_acc)\n",
        "#  pred_test = model(X_test)\n",
        "#  p_test = (p_test.numpy() > 0)\n",
        "#  test_acc = np.mean(y_test.numpy() == p_test)\n",
        "#print(f\"Train acc: {train_acc:.4f}, Test acc: {test_acc:.4f}\")\n"
      ],
      "metadata": {
        "id": "MdGdNP6TKsfB"
      },
      "execution_count": null,
      "outputs": []
    },
    {
      "cell_type": "code",
      "source": [
        "print(np.mean(np.array(train_list)))\n",
        "print(np.mean(np.array(test_list)))"
      ],
      "metadata": {
        "colab": {
          "base_uri": "https://localhost:8080/"
        },
        "id": "ECa2pNuIM6ga",
        "outputId": "7dfc6bf3-8590-460f-f506-36756c1e50fa"
      },
      "execution_count": null,
      "outputs": [
        {
          "output_type": "stream",
          "name": "stdout",
          "text": [
            "0.9324726122094456\n",
            "0.9324398140791356\n"
          ]
        }
      ]
    }
  ]
}