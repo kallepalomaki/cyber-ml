{
  "nbformat": 4,
  "nbformat_minor": 0,
  "metadata": {
    "colab": {
      "provenance": [],
      "history_visible": true,
      "authorship_tag": "ABX9TyPif5Y2sZuYloFRMqlclhHA",
      "include_colab_link": true
    },
    "kernelspec": {
      "name": "python3",
      "display_name": "Python 3"
    },
    "language_info": {
      "name": "python"
    },
    "accelerator": "GPU",
    "gpuClass": "standard"
  },
  "cells": [
    {
      "cell_type": "markdown",
      "metadata": {
        "id": "view-in-github",
        "colab_type": "text"
      },
      "source": [
        "<a href=\"https://colab.research.google.com/github/kallepalomaki/cyber-ml/blob/main/cyber.ipynb\" target=\"_parent\"><img src=\"https://colab.research.google.com/assets/colab-badge.svg\" alt=\"Open In Colab\"/></a>"
      ]
    },
    {
      "cell_type": "code",
      "execution_count": 1,
      "metadata": {
        "colab": {
          "base_uri": "https://localhost:8080/"
        },
        "id": "bPfLDirVBwjA",
        "outputId": "403664cc-1d37-433b-bd67-5850006b04d1"
      },
      "outputs": [
        {
          "output_type": "stream",
          "name": "stdout",
          "text": [
            "--2022-12-08 14:55:09--  https://zenodo.org/record/6463389/files/ALLFLOWMETER_HIKARI2021.csv.zip\n",
            "Resolving zenodo.org (zenodo.org)... 188.185.124.72\n",
            "Connecting to zenodo.org (zenodo.org)|188.185.124.72|:443... connected.\n",
            "HTTP request sent, awaiting response... 200 OK\n",
            "Length: 68403081 (65M) [application/octet-stream]\n",
            "Saving to: ‘ALLFLOWMETER_HIKARI2021.csv.zip’\n",
            "\n",
            "ALLFLOWMETER_HIKARI 100%[===================>]  65.23M   315KB/s    in 3m 29s  \n",
            "\n",
            "2022-12-08 14:58:41 (319 KB/s) - ‘ALLFLOWMETER_HIKARI2021.csv.zip’ saved [68403081/68403081]\n",
            "\n",
            "Archive:  ALLFLOWMETER_HIKARI2021.csv.zip\n",
            "  inflating: ALLFLOWMETER_HIKARI2021.csv  \n"
          ]
        }
      ],
      "source": [
        "!wget \"https://zenodo.org/record/6463389/files/ALLFLOWMETER_HIKARI2021.csv.zip\"\n",
        "!unzip ALLFLOWMETER_HIKARI2021.csv.zip"
      ]
    },
    {
      "cell_type": "code",
      "source": [
        "import pandas as pd\n",
        "from sklearn.preprocessing import StandardScaler\n",
        "from sklearn.utils import shuffle\n",
        "import numpy as np\n",
        "from torch.utils.data import TensorDataset, DataLoader\n",
        "import torch\n",
        "import torch.nn as nn\n",
        "from datetime import datetime\n"
      ],
      "metadata": {
        "id": "QXUDxi_XDKOn"
      },
      "execution_count": 2,
      "outputs": []
    },
    {
      "cell_type": "code",
      "source": [
        "#!unzip ALLFLOWMETER_HIKARI2021.csv.zip.1\n",
        "df=pd.read_csv('ALLFLOWMETER_HIKARI2021.csv')\n"
      ],
      "metadata": {
        "id": "a7g8F4_cDQom"
      },
      "execution_count": 3,
      "outputs": []
    },
    {
      "cell_type": "code",
      "source": [
        "df.shape"
      ],
      "metadata": {
        "colab": {
          "base_uri": "https://localhost:8080/"
        },
        "id": "kTBvHzSbgb2V",
        "outputId": "edfbd27e-2e89-4015-d7c3-8df5148eb647"
      },
      "execution_count": 4,
      "outputs": [
        {
          "output_type": "execute_result",
          "data": {
            "text/plain": [
              "(555278, 88)"
            ]
          },
          "metadata": {},
          "execution_count": 4
        }
      ]
    },
    {
      "cell_type": "code",
      "source": [
        "targets=df['Label'].values\n",
        "inputs=df.drop(['uid', 'originp', 'originh', 'responh', 'responp', 'traffic_category','Label'],axis=1)\n",
        "\n",
        "#from sklearn.datasets import load_breast_cancer\n",
        "\n",
        "# load the data\n",
        "#data = load_breast_cancer()\n",
        "\n",
        "#inputs=data.data\n",
        "#targets=data.target"
      ],
      "metadata": {
        "id": "gfCksa6FDqY7"
      },
      "execution_count": 5,
      "outputs": []
    },
    {
      "cell_type": "code",
      "source": [
        "#plt.plot(inputs[:,13])\n",
        "#np.median(inputs[:,13])"
      ],
      "metadata": {
        "id": "SiqqXIwQLB3J"
      },
      "execution_count": 6,
      "outputs": []
    },
    {
      "cell_type": "code",
      "source": [
        "#plt.plot(np.log(inputs[:,79]+1))\n",
        "#plt.plot(inputs[:,77])\n",
        "#plt.plot(np.log(inputs[:,79]+1))"
      ],
      "metadata": {
        "id": "QB5lWjH7F4LV"
      },
      "execution_count": 7,
      "outputs": []
    },
    {
      "cell_type": "code",
      "source": [
        "#np_zeros.shape"
      ],
      "metadata": {
        "id": "OIIuHL7J9gNT"
      },
      "execution_count": 8,
      "outputs": []
    },
    {
      "cell_type": "code",
      "source": [
        "scaler=StandardScaler()\n",
        "scaler.fit(inputs)\n",
        "inputs=scaler.transform(inputs)"
      ],
      "metadata": {
        "id": "GlQ6fni9FpBO"
      },
      "execution_count": 9,
      "outputs": []
    },
    {
      "cell_type": "code",
      "source": [
        "inputs=inputs[:,2:]\n",
        "inputs.shape"
      ],
      "metadata": {
        "colab": {
          "base_uri": "https://localhost:8080/"
        },
        "id": "F3IoF7cEJrhc",
        "outputId": "54409c81-f5fc-402b-874f-ad26451f239a"
      },
      "execution_count": 10,
      "outputs": [
        {
          "output_type": "execute_result",
          "data": {
            "text/plain": [
              "(555278, 79)"
            ]
          },
          "metadata": {},
          "execution_count": 10
        }
      ]
    },
    {
      "cell_type": "code",
      "source": [
        "input_means=np.mean(inputs, axis=0)\n",
        "input_std=np.std(inputs,axis=0)"
      ],
      "metadata": {
        "id": "0TdpLupvJ0Yv"
      },
      "execution_count": 11,
      "outputs": []
    },
    {
      "cell_type": "code",
      "source": [
        "input_median=np.median(inputs, axis=0)\n",
        "import matplotlib.pyplot as plt\n",
        "plt.plot(input_means)\n",
        "plt.plot(input_median)\n",
        "print(np.mean(input_means))\n",
        "print(np.mean(input_median))"
      ],
      "metadata": {
        "colab": {
          "base_uri": "https://localhost:8080/",
          "height": 302
        },
        "id": "5B8LJFow1c8A",
        "outputId": "4d6c8dbd-b355-4562-a29e-c674aee22f26"
      },
      "execution_count": 12,
      "outputs": [
        {
          "output_type": "stream",
          "name": "stdout",
          "text": [
            "1.2605758552224774e-17\n",
            "-0.2153005507797462\n"
          ]
        },
        {
          "output_type": "display_data",
          "data": {
            "text/plain": [
              "<Figure size 432x288 with 1 Axes>"
            ],
            "image/png": "[encoded data removed]"
          },
          "metadata": {
            "needs_background": "light"
          }
        }
      ]
    },
    {
      "cell_type": "code",
      "source": [
        "print(np.argmin(input_median))\n",
        "print(np.min(input_median))\n",
        "print(input_median[77], np.median(inputs[:,77]), np.mean(inputs[:,77]))\n",
        "plt.plot(inputs[:,77])"
      ],
      "metadata": {
        "colab": {
          "base_uri": "https://localhost:8080/",
          "height": 338
        },
        "id": "RZ7Y3-xp88DI",
        "outputId": "1710b273-59be-444f-fa50-84b56de8b7b6"
      },
      "execution_count": 13,
      "outputs": [
        {
          "output_type": "stream",
          "name": "stdout",
          "text": [
            "14\n",
            "-0.7340426741704812\n",
            "-0.7204803747657283 -0.7204803747657283 2.948235772336147e-17\n"
          ]
        },
        {
          "output_type": "execute_result",
          "data": {
            "text/plain": [
              "[<matplotlib.lines.Line2D at 0x7f7b0ef730d0>]"
            ]
          },
          "metadata": {},
          "execution_count": 13
        },
        {
          "output_type": "display_data",
          "data": {
            "text/plain": [
              "<Figure size 432x288 with 1 Axes>"
            ],
            "image/png": "[encoded data removed]"
          },
          "metadata": {
            "needs_background": "light"
          }
        }
      ]
    },
    {
      "cell_type": "code",
      "source": [
        "inputs, targets=shuffle(inputs, targets)\n",
        "train_len=int(len(targets)*0.8)"
      ],
      "metadata": {
        "id": "wdkQ-BcILx4M"
      },
      "execution_count": 14,
      "outputs": []
    },
    {
      "cell_type": "code",
      "source": [
        "train_inputs=torch.from_numpy(inputs[:train_len].astype(np.float32))\n",
        "test_inputs=torch.from_numpy(inputs[train_len:].astype(np.float32))\n",
        "\n",
        "#train_targets=torch.from_numpy(targets[:train_len])\n",
        "#test_targets=torch.from_numpy(targets[train_len:])"
      ],
      "metadata": {
        "id": "g13Fl6fYPl5z"
      },
      "execution_count": 15,
      "outputs": []
    },
    {
      "cell_type": "code",
      "source": [
        "train_targets=torch.from_numpy(targets[:train_len].astype(np.float32).reshape(-1,1))\n",
        "test_targets=torch.from_numpy(targets[train_len:].astype(np.float32).reshape(-1,1))"
      ],
      "metadata": {
        "id": "8NBvygUKQiHQ"
      },
      "execution_count": 16,
      "outputs": []
    },
    {
      "cell_type": "code",
      "source": [
        "D=inputs.shape[1]"
      ],
      "metadata": {
        "id": "gLeKuAJESSH0"
      },
      "execution_count": 17,
      "outputs": []
    },
    {
      "cell_type": "code",
      "source": [
        "class Model(nn.Module):\n",
        "  def __init__(self, D, num_hidden=512):\n",
        "    super(Model, self).__init__()\n",
        "    self.D=D\n",
        "\n",
        "    self.linear_stack = nn.Sequential(\n",
        "            nn.Linear(D, num_hidden),\n",
        "            #nn.Conv1d(D,num_hidden, kernel_size=3),\n",
        "            nn.ReLU(),\n",
        "            nn.Linear(num_hidden,num_hidden),\n",
        "            #nn.Conv1d(D,num_hidden, kernel_size=3),\n",
        "            nn.ReLU(),\n",
        "            nn.Linear(num_hidden,num_hidden),\n",
        "            #nn.Conv1d(D,num_hidden, kernel_size=3),\n",
        "            nn.ReLU(),\n",
        "            nn.Linear(num_hidden, 1),\n",
        "        )\n",
        "    \n",
        "  def forward(self, input_data):   \n",
        "    logits=self.linear_stack(input_data)\n",
        "    return logits"
      ],
      "metadata": {
        "id": "zZMDR2FiR-yc"
      },
      "execution_count": 18,
      "outputs": []
    },
    {
      "cell_type": "code",
      "source": [
        "device=torch.device(\"cuda:0\" if torch.cuda.is_available() else \"cpu\")\n",
        "print(device)"
      ],
      "metadata": {
        "colab": {
          "base_uri": "https://localhost:8080/"
        },
        "id": "hFbxL5QFS_K-",
        "outputId": "a0cb84df-f0e1-487f-abea-68be45235b71"
      },
      "execution_count": 19,
      "outputs": [
        {
          "output_type": "stream",
          "name": "stdout",
          "text": [
            "cuda:0\n"
          ]
        }
      ]
    },
    {
      "cell_type": "code",
      "source": [
        "model=Model(D=D, num_hidden=100)\n",
        "model.to(device)"
      ],
      "metadata": {
        "colab": {
          "base_uri": "https://localhost:8080/"
        },
        "id": "uQxeF36QTDOE",
        "outputId": "eebfae37-b559-4494-c0f7-72ac6eaf0e15"
      },
      "execution_count": 20,
      "outputs": [
        {
          "output_type": "execute_result",
          "data": {
            "text/plain": [
              "Model(\n",
              "  (linear_stack): Sequential(\n",
              "    (0): Linear(in_features=79, out_features=100, bias=True)\n",
              "    (1): ReLU()\n",
              "    (2): Linear(in_features=100, out_features=100, bias=True)\n",
              "    (3): ReLU()\n",
              "    (4): Linear(in_features=100, out_features=100, bias=True)\n",
              "    (5): ReLU()\n",
              "    (6): Linear(in_features=100, out_features=1, bias=True)\n",
              "  )\n",
              ")"
            ]
          },
          "metadata": {},
          "execution_count": 20
        }
      ]
    },
    {
      "cell_type": "code",
      "source": [
        "criterion=nn.BCEWithLogitsLoss()  #MSELoss()# CrossEntropyLoss() #nn.BCEWithLogitsLoss() #nn.CrossEntropyLoss() #BCELoss #nn.BCEWithLogitsLoss\n",
        "optimizer=torch.optim.Adam(model.parameters())"
      ],
      "metadata": {
        "id": "t3vnpJCLUTQI"
      },
      "execution_count": 21,
      "outputs": []
    },
    {
      "cell_type": "code",
      "source": [
        "train_data=TensorDataset(train_inputs, train_targets)\n",
        "test_data=TensorDataset(test_inputs, test_targets)\n",
        "batch_size=512\n",
        "train_loader=DataLoader(dataset=train_data,\n",
        "                        batch_size=batch_size,\n",
        "                        shuffle=False)\n",
        "test_loader=DataLoader(dataset=test_data,\n",
        "                        batch_size=batch_size,\n",
        "                        shuffle=False)"
      ],
      "metadata": {
        "id": "Bs6DM8HVU5Ul"
      },
      "execution_count": 22,
      "outputs": []
    },
    {
      "cell_type": "code",
      "source": [
        "def train(model, criterion, optimizer, train_loader, test_loader, epochs):\n",
        "  train_losses=np.zeros(epochs)\n",
        "  test_losses=np.zeros(epochs)\n",
        "  for it in range(epochs):\n",
        "    t0=datetime.now()\n",
        "    train_loss=[]\n",
        "    for i_inputs, t_targets in train_loader:\n",
        "      i_inputs, t_targets=i_inputs.to(device), t_targets.to(device)\n",
        "      model.zero_grad()\n",
        "      pred=model(i_inputs)\n",
        "      #print(pred_ratings.shape, targets.shape)\n",
        "      loss=criterion(pred, t_targets.reshape(-1,1))\n",
        "      loss.backward()\n",
        "      optimizer.step()\n",
        "      train_loss.append(loss.item())\n",
        "    train_losses[it]=np.mean(train_loss)\n",
        "    test_loss=[]  \n",
        "    for i_inputs, t_targets in test_loader:\n",
        "      i_inputs, t_targets=i_inputs.to(device), t_targets.to(device)\n",
        "      model.zero_grad()\n",
        "      pred=model(i_inputs)\n",
        "      loss=criterion(pred, t_targets.reshape(-1,1))\n",
        "      test_loss.append(loss.item())\n",
        "    test_losses[it]=np.mean(test_loss)\n",
        "    print(\"iteration: \", it, \"/\", epochs, \" train loss: \", train_losses[it], \"test loss: \", test_losses[it])\n",
        "  \n",
        "  return train_losses, test_losses "
      ],
      "metadata": {
        "id": "s-rsxFhTVtKB"
      },
      "execution_count": 23,
      "outputs": []
    },
    {
      "cell_type": "code",
      "source": [
        "train_losses, test_losses=train(model, criterion, optimizer, train_loader, test_loader, 40)"
      ],
      "metadata": {
        "colab": {
          "base_uri": "https://localhost:8080/"
        },
        "id": "RMtTEwGjVz3R",
        "outputId": "806c9f3c-7dbc-4b7e-8c36-c983a88da01a"
      },
      "execution_count": 24,
      "outputs": [
        {
          "output_type": "stream",
          "name": "stdout",
          "text": [
            "iteration:  0 / 40  train loss:  0.14175391379177296 test loss:  0.12940926932244806\n",
            "iteration:  1 / 40  train loss:  0.12638309928438357 test loss:  0.12903767570097874\n",
            "iteration:  2 / 40  train loss:  0.12558493654196437 test loss:  0.12839018440191646\n",
            "iteration:  3 / 40  train loss:  0.1252236050394823 test loss:  0.12795212157585653\n",
            "iteration:  4 / 40  train loss:  0.1250347347183299 test loss:  0.12733757499313575\n",
            "iteration:  5 / 40  train loss:  0.12484145421998293 test loss:  0.1277435403746394\n",
            "iteration:  6 / 40  train loss:  0.12467365223519539 test loss:  0.12729840852697874\n",
            "iteration:  7 / 40  train loss:  0.12452214582896177 test loss:  0.12789281821607995\n",
            "iteration:  8 / 40  train loss:  0.12449270867085951 test loss:  0.12679845104981127\n",
            "iteration:  9 / 40  train loss:  0.12431323832149879 test loss:  0.12677107758236372\n",
            "iteration:  10 / 40  train loss:  0.12420793299988118 test loss:  0.12673395875549537\n",
            "iteration:  11 / 40  train loss:  0.124105554074049 test loss:  0.1268266582269273\n",
            "iteration:  12 / 40  train loss:  0.12400097082356154 test loss:  0.12643057513072195\n",
            "iteration:  13 / 40  train loss:  0.12382675315068889 test loss:  0.12636108947102376\n",
            "iteration:  14 / 40  train loss:  0.12380974646228525 test loss:  0.12621977626590686\n",
            "iteration:  15 / 40  train loss:  0.12374727159292193 test loss:  0.12631465024250443\n",
            "iteration:  16 / 40  train loss:  0.12354916624278517 test loss:  0.12591321247925957\n",
            "iteration:  17 / 40  train loss:  0.12352307955412546 test loss:  0.12596222136839194\n",
            "iteration:  18 / 40  train loss:  0.12356088555971598 test loss:  0.1259441364058701\n",
            "iteration:  19 / 40  train loss:  0.12356265638590133 test loss:  0.12595538204441423\n",
            "iteration:  20 / 40  train loss:  0.1234588542360864 test loss:  0.1261262753592109\n",
            "iteration:  21 / 40  train loss:  0.12340859214728055 test loss:  0.12555388656492059\n",
            "iteration:  22 / 40  train loss:  0.12335828519190237 test loss:  0.12646221736883786\n",
            "iteration:  23 / 40  train loss:  0.12317466113527524 test loss:  0.12540103330315533\n",
            "iteration:  24 / 40  train loss:  0.12311218249770353 test loss:  0.12577047411884582\n",
            "iteration:  25 / 40  train loss:  0.12319880096490757 test loss:  0.12641411521879758\n",
            "iteration:  26 / 40  train loss:  0.12313715317007583 test loss:  0.12663238320482492\n",
            "iteration:  27 / 40  train loss:  0.12323087319937719 test loss:  0.12595487241783448\n",
            "iteration:  28 / 40  train loss:  0.12307915415975355 test loss:  0.12663929675993282\n",
            "iteration:  29 / 40  train loss:  0.12324701315693316 test loss:  0.12566952963578537\n",
            "iteration:  30 / 40  train loss:  0.12314520959102887 test loss:  0.12568984359228116\n",
            "iteration:  31 / 40  train loss:  0.12312212710865357 test loss:  0.12664942172128485\n",
            "iteration:  32 / 40  train loss:  0.12332182544099021 test loss:  0.1264889069279218\n",
            "iteration:  33 / 40  train loss:  0.1230980706431212 test loss:  0.1254763473426142\n",
            "iteration:  34 / 40  train loss:  0.12308007489872692 test loss:  0.12548507104546244\n",
            "iteration:  35 / 40  train loss:  0.12293759665627908 test loss:  0.1259093113621259\n",
            "iteration:  36 / 40  train loss:  0.12293863050158947 test loss:  0.1265225551576109\n",
            "iteration:  37 / 40  train loss:  0.12297234867918326 test loss:  0.1253704001551949\n",
            "iteration:  38 / 40  train loss:  0.12282227108486786 test loss:  0.12516157342816278\n",
            "iteration:  39 / 40  train loss:  0.12272819711865368 test loss:  0.12508083879947662\n"
          ]
        }
      ]
    },
    {
      "cell_type": "code",
      "source": [
        "plt.plot(train_losses)\n",
        "plt.plot(test_losses)"
      ],
      "metadata": {
        "id": "8IfQ8obYoDBa",
        "colab": {
          "base_uri": "https://localhost:8080/",
          "height": 285
        },
        "outputId": "83cbbff1-8864-4a12-aa39-5156621da89f"
      },
      "execution_count": 25,
      "outputs": [
        {
          "output_type": "execute_result",
          "data": {
            "text/plain": [
              "[<matplotlib.lines.Line2D at 0x7f7b100d18e0>]"
            ]
          },
          "metadata": {},
          "execution_count": 25
        },
        {
          "output_type": "display_data",
          "data": {
            "text/plain": [
              "<Figure size 432x288 with 1 Axes>"
            ],
            "image/png": "[encoded data removed]"
          },
          "metadata": {
            "needs_background": "light"
          }
        }
      ]
    },
    {
      "cell_type": "code",
      "source": [
        "train_list=[]\n",
        "test_list=[]\n",
        "for i_inputs, t_targets in train_loader:\n",
        "  i_inputs, t_targets=i_inputs.to(device), t_targets.to(device)\n",
        "\n",
        "  pred_train = model(i_inputs)\n",
        "  pred_train = (pred_train.detach().cpu().numpy() > 0.5)\n",
        "  train_list.append(np.mean(t_targets.detach().cpu().numpy() == pred_train))\n",
        "  #print(train_acc)\n",
        "#  pred_test = model(X_test)\n",
        "#  p_test = (p_test.numpy() > 0)\n",
        "#  test_acc = np.mean(y_test.numpy() == p_test)\n",
        "#print(f\"Train acc: {train_acc:.4f}, Test acc: {test_acc:.4f}\")\n",
        "\n",
        "for i_inputs, t_targets in test_loader:\n",
        "  i_inputs, t_targets=i_inputs.to(device), t_targets.to(device)\n",
        "\n",
        "  pred_test = model(i_inputs)\n",
        "  pred_test = (pred_test.detach().cpu().numpy() > 0.5)\n",
        "  test_list.append(np.mean(t_targets.detach().cpu().numpy() == pred_test))\n",
        "  #print(train_acc)\n",
        "#  pred_test = model(X_test)\n",
        "#  p_test = (p_test.numpy() > 0)\n",
        "#  test_acc = np.mean(y_test.numpy() == p_test)\n",
        "#print(f\"Train acc: {train_acc:.4f}, Test acc: {test_acc:.4f}\")\n"
      ],
      "metadata": {
        "id": "MdGdNP6TKsfB"
      },
      "execution_count": 26,
      "outputs": []
    },
    {
      "cell_type": "code",
      "source": [
        "print(np.mean(np.array(train_list)))\n",
        "print(np.mean(np.array(test_list)))"
      ],
      "metadata": {
        "colab": {
          "base_uri": "https://localhost:8080/"
        },
        "id": "ECa2pNuIM6ga",
        "outputId": "14f65196-9b30-4973-e3c0-6aae9a50bd8f"
      },
      "execution_count": 27,
      "outputs": [
        {
          "output_type": "stream",
          "name": "stdout",
          "text": [
            "0.9327572341988378\n",
            "0.931332743226601\n"
          ]
        }
      ]
    }
  ]
}